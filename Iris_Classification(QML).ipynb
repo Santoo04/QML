{
  "cells": [
    {
      "attachments": {},
      "cell_type": "markdown",
      "metadata": {
        "id": "NJ2ci90TC0zw"
      },
      "source": [
        "Import Libraries"
      ]
    },
    {
      "cell_type": "code",
      "execution_count": 2,
      "metadata": {
        "colab": {
          "base_uri": "https://localhost:8080/"
        },
        "id": "kSCs8Y9MDcv_",
        "outputId": "62011b1f-e17a-4f03-cfdc-f20c69d14a99"
      },
      "outputs": [
        {
          "name": "stdout",
          "output_type": "stream",
          "text": [
            "Looking in indexes: https://pypi.org/simple, https://us-python.pkg.dev/colab-wheels/public/simple/\n",
            "Collecting qiskit\n",
            "  Downloading qiskit-0.39.0.tar.gz (13 kB)\n",
            "Collecting qiskit-terra==0.22.0\n",
            "  Downloading qiskit_terra-0.22.0-cp37-cp37m-manylinux_2_17_x86_64.manylinux2014_x86_64.whl (4.7 MB)\n",
            "\u001b[K     |████████████████████████████████| 4.7 MB 5.0 MB/s \n",
            "\u001b[?25hCollecting qiskit-aer==0.11.0\n",
            "  Downloading qiskit_aer-0.11.0-cp37-cp37m-manylinux_2_17_x86_64.manylinux2014_x86_64.whl (19.2 MB)\n",
            "\u001b[K     |████████████████████████████████| 19.2 MB 236 kB/s \n",
            "\u001b[?25hCollecting qiskit-ibmq-provider==0.19.2\n",
            "  Downloading qiskit_ibmq_provider-0.19.2-py3-none-any.whl (240 kB)\n",
            "\u001b[K     |████████████████████████████████| 240 kB 59.6 MB/s \n",
            "\u001b[?25hRequirement already satisfied: scipy>=1.0 in /usr/local/lib/python3.7/dist-packages (from qiskit-aer==0.11.0->qiskit) (1.7.3)\n",
            "Requirement already satisfied: numpy>=1.16.3 in /usr/local/lib/python3.7/dist-packages (from qiskit-aer==0.11.0->qiskit) (1.21.6)\n",
            "Collecting websocket-client>=1.0.1\n",
            "  Downloading websocket_client-1.4.1-py3-none-any.whl (55 kB)\n",
            "\u001b[K     |████████████████████████████████| 55 kB 3.2 MB/s \n",
            "\u001b[?25hCollecting websockets>=10.0\n",
            "  Downloading websockets-10.3-cp37-cp37m-manylinux_2_5_x86_64.manylinux1_x86_64.manylinux_2_12_x86_64.manylinux2010_x86_64.whl (112 kB)\n",
            "\u001b[K     |████████████████████████████████| 112 kB 52.6 MB/s \n",
            "\u001b[?25hRequirement already satisfied: urllib3>=1.21.1 in /usr/local/lib/python3.7/dist-packages (from qiskit-ibmq-provider==0.19.2->qiskit) (1.24.3)\n",
            "Collecting requests-ntlm>=1.1.0\n",
            "  Downloading requests_ntlm-1.1.0-py2.py3-none-any.whl (5.7 kB)\n",
            "Requirement already satisfied: python-dateutil>=2.8.0 in /usr/local/lib/python3.7/dist-packages (from qiskit-ibmq-provider==0.19.2->qiskit) (2.8.2)\n",
            "Requirement already satisfied: requests>=2.19 in /usr/local/lib/python3.7/dist-packages (from qiskit-ibmq-provider==0.19.2->qiskit) (2.23.0)\n",
            "Requirement already satisfied: dill>=0.3 in /usr/local/lib/python3.7/dist-packages (from qiskit-terra==0.22.0->qiskit) (0.3.5.1)\n",
            "Collecting tweedledum<2.0,>=1.1\n",
            "  Downloading tweedledum-1.1.1-cp37-cp37m-manylinux_2_12_x86_64.manylinux2010_x86_64.whl (943 kB)\n",
            "\u001b[K     |████████████████████████████████| 943 kB 56.5 MB/s \n",
            "\u001b[?25hCollecting shared-memory38\n",
            "  Downloading shared_memory38-0.1.2-cp37-cp37m-manylinux_2_5_x86_64.manylinux1_x86_64.whl (25 kB)\n",
            "Requirement already satisfied: typing-extensions in /usr/local/lib/python3.7/dist-packages (from qiskit-terra==0.22.0->qiskit) (4.1.1)\n",
            "Collecting retworkx>=0.11.0\n",
            "  Downloading retworkx-0.12.0-py3-none-any.whl (10 kB)\n",
            "Requirement already satisfied: importlib-metadata<5.0 in /usr/local/lib/python3.7/dist-packages (from qiskit-terra==0.22.0->qiskit) (4.13.0)\n",
            "Collecting stevedore>=3.0.0\n",
            "  Downloading stevedore-3.5.2-py3-none-any.whl (50 kB)\n",
            "\u001b[K     |████████████████████████████████| 50 kB 6.1 MB/s \n",
            "\u001b[?25hCollecting ply>=3.10\n",
            "  Downloading ply-3.11-py2.py3-none-any.whl (49 kB)\n",
            "\u001b[K     |████████████████████████████████| 49 kB 5.7 MB/s \n",
            "\u001b[?25hRequirement already satisfied: sympy>=1.3 in /usr/local/lib/python3.7/dist-packages (from qiskit-terra==0.22.0->qiskit) (1.7.1)\n",
            "Collecting symengine>=0.9\n",
            "  Downloading symengine-0.9.2-cp37-cp37m-manylinux2010_x86_64.whl (37.5 MB)\n",
            "\u001b[K     |████████████████████████████████| 37.5 MB 46 kB/s \n",
            "\u001b[?25hRequirement already satisfied: psutil>=5 in /usr/local/lib/python3.7/dist-packages (from qiskit-terra==0.22.0->qiskit) (5.4.8)\n",
            "Requirement already satisfied: zipp>=0.5 in /usr/local/lib/python3.7/dist-packages (from importlib-metadata<5.0->qiskit-terra==0.22.0->qiskit) (3.9.0)\n",
            "Requirement already satisfied: six>=1.5 in /usr/local/lib/python3.7/dist-packages (from python-dateutil>=2.8.0->qiskit-ibmq-provider==0.19.2->qiskit) (1.15.0)\n",
            "Requirement already satisfied: certifi>=2017.4.17 in /usr/local/lib/python3.7/dist-packages (from requests>=2.19->qiskit-ibmq-provider==0.19.2->qiskit) (2022.9.24)\n",
            "Requirement already satisfied: chardet<4,>=3.0.2 in /usr/local/lib/python3.7/dist-packages (from requests>=2.19->qiskit-ibmq-provider==0.19.2->qiskit) (3.0.4)\n",
            "Requirement already satisfied: idna<3,>=2.5 in /usr/local/lib/python3.7/dist-packages (from requests>=2.19->qiskit-ibmq-provider==0.19.2->qiskit) (2.10)\n",
            "Collecting cryptography>=1.3\n",
            "  Downloading cryptography-38.0.1-cp36-abi3-manylinux_2_24_x86_64.whl (4.0 MB)\n",
            "\u001b[K     |████████████████████████████████| 4.0 MB 39.0 MB/s \n",
            "\u001b[?25hCollecting ntlm-auth>=1.0.2\n",
            "  Downloading ntlm_auth-1.5.0-py2.py3-none-any.whl (29 kB)\n",
            "Requirement already satisfied: cffi>=1.12 in /usr/local/lib/python3.7/dist-packages (from cryptography>=1.3->requests-ntlm>=1.1.0->qiskit-ibmq-provider==0.19.2->qiskit) (1.15.1)\n",
            "Requirement already satisfied: pycparser in /usr/local/lib/python3.7/dist-packages (from cffi>=1.12->cryptography>=1.3->requests-ntlm>=1.1.0->qiskit-ibmq-provider==0.19.2->qiskit) (2.21)\n",
            "Collecting rustworkx==0.12.0\n",
            "  Downloading rustworkx-0.12.0-cp37-cp37m-manylinux_2_17_x86_64.manylinux2014_x86_64.whl (1.9 MB)\n",
            "\u001b[K     |████████████████████████████████| 1.9 MB 44.7 MB/s \n",
            "\u001b[?25hCollecting pbr!=2.1.0,>=2.0.0\n",
            "  Downloading pbr-5.11.0-py2.py3-none-any.whl (112 kB)\n",
            "\u001b[K     |████████████████████████████████| 112 kB 52.3 MB/s \n",
            "\u001b[?25hRequirement already satisfied: mpmath>=0.19 in /usr/local/lib/python3.7/dist-packages (from sympy>=1.3->qiskit-terra==0.22.0->qiskit) (1.2.1)\n",
            "Building wheels for collected packages: qiskit\n",
            "  Building wheel for qiskit (setup.py) ... \u001b[?25l\u001b[?25hdone\n",
            "  Created wheel for qiskit: filename=qiskit-0.39.0-py3-none-any.whl size=12188 sha256=9a53b2b145b48b618152b93dbf8fc5b0118f9520db09a4cb23c2a049c63a1db0\n",
            "  Stored in directory: /root/.cache/pip/wheels/63/d0/9a/257143dfc211b1732e1dadf41f281d477251d9cc0108a6f209\n",
            "Successfully built qiskit\n",
            "Installing collected packages: rustworkx, pbr, tweedledum, symengine, stevedore, shared-memory38, retworkx, ply, ntlm-auth, cryptography, websockets, websocket-client, requests-ntlm, qiskit-terra, qiskit-ibmq-provider, qiskit-aer, qiskit\n",
            "Successfully installed cryptography-38.0.1 ntlm-auth-1.5.0 pbr-5.11.0 ply-3.11 qiskit-0.39.0 qiskit-aer-0.11.0 qiskit-ibmq-provider-0.19.2 qiskit-terra-0.22.0 requests-ntlm-1.1.0 retworkx-0.12.0 rustworkx-0.12.0 shared-memory38-0.1.2 stevedore-3.5.2 symengine-0.9.2 tweedledum-1.1.1 websocket-client-1.4.1 websockets-10.3\n"
          ]
        }
      ],
      "source": [
        "!pip install qiskit"
      ]
    },
    {
      "cell_type": "code",
      "execution_count": 3,
      "metadata": {
        "id": "yUzKoWyVCxK3"
      },
      "outputs": [],
      "source": [
        "from sklearn import model_selection, datasets, svm\n",
        "from qiskit import QuantumCircuit, Aer, IBMQ, QuantumRegister, ClassicalRegister"
      ]
    },
    {
      "cell_type": "code",
      "execution_count": 4,
      "metadata": {
        "id": "14C2f1VZDF_Q"
      },
      "outputs": [],
      "source": [
        "iris = datasets.load_iris()"
      ]
    },
    {
      "attachments": {},
      "cell_type": "markdown",
      "metadata": {
        "id": "QdDUokVIEmfX"
      },
      "source": [
        "Train/Test - 67/33"
      ]
    },
    {
      "cell_type": "code",
      "execution_count": 5,
      "metadata": {
        "id": "vTxlAm3sEIxA"
      },
      "outputs": [],
      "source": [
        "X = iris.data[0:100]\n",
        "y = iris.target[0:100]\n",
        "X_train, X_test, y_train, y_test = model_selection.train_test_split(X,y, test_size = 0.33, random_state = 42) "
      ]
    },
    {
      "cell_type": "code",
      "execution_count": 6,
      "metadata": {
        "colab": {
          "base_uri": "https://localhost:8080/"
        },
        "id": "SVcEATLYElaG",
        "outputId": "1a5fd7f8-c135-41b3-be4a-5a916cb3da04"
      },
      "outputs": [
        {
          "data": {
            "text/plain": [
              "array([0, 1, 0, 1, 1, 0, 0, 0, 0, 0, 1, 0, 0, 1, 0, 1, 0, 0, 0, 0, 0, 0,\n",
              "       1, 0, 1, 0, 1, 1, 1, 1, 0, 1, 1, 0, 1, 1, 1, 1, 0, 1, 0, 1, 1, 1,\n",
              "       0, 1, 1, 1, 1, 0, 0, 0, 1, 0, 0, 0, 1, 1, 1, 1, 1, 0, 1, 1, 0, 1,\n",
              "       1])"
            ]
          },
          "execution_count": 6,
          "metadata": {},
          "output_type": "execute_result"
        }
      ],
      "source": [
        "y_train"
      ]
    },
    {
      "cell_type": "code",
      "execution_count": 9,
      "metadata": {
        "colab": {
          "base_uri": "https://localhost:8080/"
        },
        "id": "fPf7_0vKExAu",
        "outputId": "bb40e4b8-1c0d-48e0-ff0c-1e1fad3b0ef0"
      },
      "outputs": [
        {
          "data": {
            "text/plain": [
              "array([6.7, 3.1, 4.4, 1.4])"
            ]
          },
          "execution_count": 9,
          "metadata": {},
          "output_type": "execute_result"
        }
      ],
      "source": [
        "X_train[4]"
      ]
    },
    {
      "cell_type": "code",
      "execution_count": 10,
      "metadata": {
        "colab": {
          "base_uri": "https://localhost:8080/"
        },
        "id": "V1_IWLidEzTn",
        "outputId": "3c5b599d-4d67-4463-9d02-d2ae5c767fc7"
      },
      "outputs": [
        {
          "name": "stdout",
          "output_type": "stream",
          "text": [
            "Looking in indexes: https://pypi.org/simple, https://us-python.pkg.dev/colab-wheels/public/simple/\n",
            "Collecting pylatexenc\n",
            "  Downloading pylatexenc-2.10.tar.gz (162 kB)\n",
            "\u001b[K     |████████████████████████████████| 162 kB 4.7 MB/s \n",
            "\u001b[?25hBuilding wheels for collected packages: pylatexenc\n",
            "  Building wheel for pylatexenc (setup.py) ... \u001b[?25l\u001b[?25hdone\n",
            "  Created wheel for pylatexenc: filename=pylatexenc-2.10-py3-none-any.whl size=136835 sha256=64c93090fd0f21470f1e3ecf0013450851984c3a47ede0a4c143589e427de2c8\n",
            "  Stored in directory: /root/.cache/pip/wheels/f1/8a/f5/33ee79d4473eb201b519fa40f989b842e373237395a3421f52\n",
            "Successfully built pylatexenc\n",
            "Installing collected packages: pylatexenc\n",
            "Successfully installed pylatexenc-2.10\n"
          ]
        }
      ],
      "source": [
        "!pip install pylatexenc"
      ]
    },
    {
      "attachments": {},
      "cell_type": "markdown",
      "metadata": {
        "id": "xsd-8UezE_NX"
      },
      "source": [
        "Quantum Circuits\n",
        "*   4 features from the dataset represented into 4 qubits. {q00, q01, q10, q11}\n",
        "*   1 classical register, c(output)"
      ]
    },
    {
      "cell_type": "code",
      "execution_count": 12,
      "metadata": {
        "colab": {
          "base_uri": "https://localhost:8080/"
        },
        "id": "DJbemxg4E8Du",
        "outputId": "373ff9ee-5cb9-4611-8049-8149d07002a9"
      },
      "outputs": [
        {
          "name": "stdout",
          "output_type": "stream",
          "text": [
            "      \n",
            "q1_0: \n",
            "      \n",
            "q1_1: \n",
            "      \n",
            "q1_2: \n",
            "      \n",
            "q1_3: \n",
            "      \n",
            "  c1: \n",
            "      \n"
          ]
        }
      ],
      "source": [
        "n = 4\n",
        "q = QuantumRegister(n)\n",
        "c = ClassicalRegister(1)\n",
        "qc = QuantumCircuit(q,c)\n",
        "print(qc)"
      ]
    },
    {
      "attachments": {},
      "cell_type": "markdown",
      "metadata": {
        "id": "Q-kAZbz1F9Ym"
      },
      "source": [
        "Rotating the qubits around by these angles\n",
        "* This rotates the qubits and then encodes those classical numbers onto the qubits (this can be done more complicated ways)\n",
        "\n",
        "* Rotating the qubits is really just the simplest way of getting the data onto the quantum processor\n",
        "\n"
      ]
    },
    {
      "cell_type": "code",
      "execution_count": 17,
      "metadata": {
        "colab": {
          "base_uri": "https://localhost:8080/"
        },
        "id": "KX4dgQMrFvH_",
        "outputId": "96cf1522-8f91-473f-ab46-3bbe1619d12f"
      },
      "outputs": [
        {
          "name": "stdout",
          "output_type": "stream",
          "text": [
            "      ┌─────────┐\n",
            "q6_0: ┤ Rx(5.2) ├\n",
            "      ├─────────┤\n",
            "q6_1: ┤ Rx(3.4) ├\n",
            "      ├─────────┤\n",
            "q6_2: ┤ Rx(1.4) ├\n",
            "      ├─────────┤\n",
            "q6_3: ┤ Rx(0.2) ├\n",
            "      └─────────┘\n",
            "  c6: ═══════════\n",
            "                 \n"
          ]
        }
      ],
      "source": [
        "q = QuantumRegister(n)\n",
        "c = ClassicalRegister(1)\n",
        "qc = QuantumCircuit(q,c)\n",
        "\n",
        "for i, x in enumerate(X_train[0]):\n",
        "    qc.rx(x, i)\n",
        "print(qc)"
      ]
    },
    {
      "attachments": {},
      "cell_type": "markdown",
      "metadata": {
        "id": "xUCHWcd5GwOO"
      },
      "source": [
        "Feature map, mapping any data onto the quantum processor."
      ]
    },
    {
      "cell_type": "code",
      "execution_count": 18,
      "metadata": {
        "id": "0rtPSp_RGYEe"
      },
      "outputs": [],
      "source": [
        "def feature_map(X):\n",
        "    q = QuantumRegister(n)\n",
        "    c = ClassicalRegister(1)\n",
        "    qc = QuantumCircuit(q,c)\n",
        "    for i, x in enumerate(X):\n",
        "        qc.rx(x, i)\n",
        "    return qc, c "
      ]
    },
    {
      "attachments": {},
      "cell_type": "markdown",
      "metadata": {
        "id": "RwnvCI50HE5m"
      },
      "source": [
        "* We need to get measure quantum circuit, we need to get output\n",
        "* This measurement is going to be our prediction of the quantum circuit"
      ]
    },
    {
      "cell_type": "code",
      "execution_count": 19,
      "metadata": {
        "colab": {
          "base_uri": "https://localhost:8080/"
        },
        "id": "hFsg7OaOHDVn",
        "outputId": "ddf1f052-d2b5-483c-8a7d-b4b0f1fc2953"
      },
      "outputs": [
        {
          "name": "stdout",
          "output_type": "stream",
          "text": [
            "       ┌───────┐ ┌─┐\n",
            "q7_0: ─┤ Rx(5) ├─┤M├\n",
            "      ┌┴───────┴┐└╥┘\n",
            "q7_1: ┤ Rx(3.2) ├─╫─\n",
            "      ├─────────┤ ║ \n",
            "q7_2: ┤ Rx(1.2) ├─╫─\n",
            "      ├─────────┤ ║ \n",
            "q7_3: ┤ Rx(0.2) ├─╫─\n",
            "      └─────────┘ ║ \n",
            "  c7: ════════════╩═\n",
            "                    \n"
          ]
        }
      ],
      "source": [
        "qc, c= feature_map(X_train[5])\n",
        "# measurement operator\n",
        "qc.measure(0,c)\n",
        "print(qc)"
      ]
    },
    {
      "attachments": {},
      "cell_type": "markdown",
      "metadata": {
        "id": "VSRnHU1CHTxO"
      },
      "source": [
        "* The output can be either 0 or 1\n",
        "* I want to introduce variational circuit,\n",
        "* I want to introduce more rotations that we are getting gonna be learning"
      ]
    },
    {
      "cell_type": "code",
      "execution_count": 20,
      "metadata": {
        "colab": {
          "base_uri": "https://localhost:8080/"
        },
        "id": "lW14A5SaHQD1",
        "outputId": "09468c50-63a7-4e57-c0bc-f5e0a6ee2ea1"
      },
      "outputs": [
        {
          "name": "stdout",
          "output_type": "stream",
          "text": [
            "       ┌───────┐  ░  ░ ┌─┐\n",
            "q8_0: ─┤ Rx(5) ├──░──░─┤M├\n",
            "      ┌┴───────┴┐ ░  ░ └╥┘\n",
            "q8_1: ┤ Rx(3.2) ├─░──░──╫─\n",
            "      ├─────────┤ ░  ░  ║ \n",
            "q8_2: ┤ Rx(1.2) ├─░──░──╫─\n",
            "      ├─────────┤ ░  ░  ║ \n",
            "q8_3: ┤ Rx(0.2) ├─░──░──╫─\n",
            "      └─────────┘ ░  ░  ║ \n",
            "  c8: ══════════════════╩═\n",
            "                          \n"
          ]
        }
      ],
      "source": [
        "qc, c =feature_map(X_train[5])\n",
        "qc.barrier()\n",
        "qc.barrier()\n",
        "# measurement operator\n",
        "qc.measure(0,c)\n",
        "print(qc)"
      ]
    },
    {
      "attachments": {},
      "cell_type": "markdown",
      "metadata": {
        "id": "NOZwubJmHnGP"
      },
      "source": [
        "* In between those gray lines ı want to put some more rotations.\n",
        "* These rotations will have angles that we want to learn, we want to optimize those angles such that the quantum circuit then predict the right label (0 or 1 )."
      ]
    },
    {
      "cell_type": "code",
      "execution_count": 22,
      "metadata": {
        "colab": {
          "base_uri": "https://localhost:8080/"
        },
        "id": "gNpNMf_4Hjn4",
        "outputId": "f7e30707-8ef0-4a4c-d0d9-375a3f1354b4"
      },
      "outputs": [
        {
          "name": "stdout",
          "output_type": "stream",
          "text": [
            "0\n"
          ]
        }
      ],
      "source": [
        "# right label in our case =>\n",
        "print(y_train[5])"
      ]
    },
    {
      "attachments": {},
      "cell_type": "markdown",
      "metadata": {
        "id": "HUWchJMlHwDv"
      },
      "source": [
        "Variational Circuits\n",
        "* Variational circuits contains rotations.\n",
        "* I have put just random angles for illustration\n",
        "* The goal is now that we want to learn those angles we want to learn optimal angles such that our quantum circuit outputs us right class\n",
        "* Blue line are c not gates. they create entanglement, so they essentially allow information to travel from one qubit to another\n",
        "* I am measuring here the zeroth cubit (for output)"
      ]
    },
    {
      "cell_type": "code",
      "execution_count": 23,
      "metadata": {
        "id": "koEJlTecHtlO"
      },
      "outputs": [],
      "source": [
        "def variational_circuit(qc, theta):\n",
        "      for i in range(n-1):\n",
        "            qc.cnot(i,i+1)\n",
        "      qc.cnot(n-1, 0)\n",
        "      for i in range(n):\n",
        "            qc.ry(theta[i], i)\n",
        "      return qc"
      ]
    },
    {
      "cell_type": "code",
      "execution_count": 24,
      "metadata": {
        "colab": {
          "base_uri": "https://localhost:8080/"
        },
        "id": "PYUv5ReeH3dt",
        "outputId": "6236b8f4-63cf-472d-e77c-642685b82750"
      },
      "outputs": [
        {
          "name": "stdout",
          "output_type": "stream",
          "text": [
            "       ┌───────┐  ░                          ┌───┐┌─────────────┐ ░ ┌─┐\n",
            "q9_0: ─┤ Rx(5) ├──░───■──────────────────────┤ X ├┤ Ry(0.99797) ├─░─┤M├\n",
            "      ┌┴───────┴┐ ░ ┌─┴─┐     ┌─────────────┐└─┬─┘└─────────────┘ ░ └╥┘\n",
            "q9_1: ┤ Rx(3.2) ├─░─┤ X ├──■──┤ Ry(0.94486) ├──┼──────────────────░──╫─\n",
            "      ├─────────┤ ░ └───┘┌─┴─┐└─────────────┘  │  ┌─────────────┐ ░  ║ \n",
            "q9_2: ┤ Rx(1.2) ├─░──────┤ X ├───────■─────────┼──┤ Ry(0.36943) ├─░──╫─\n",
            "      ├─────────┤ ░      └───┘     ┌─┴─┐       │  ├─────────────┤ ░  ║ \n",
            "q9_3: ┤ Rx(0.2) ├─░────────────────┤ X ├───────■──┤ Ry(0.79241) ├─░──╫─\n",
            "      └─────────┘ ░                └───┘          └─────────────┘ ░  ║ \n",
            "  c9: ═══════════════════════════════════════════════════════════════╩═\n",
            "                                                                       \n"
          ]
        }
      ],
      "source": [
        "import numpy as np\n",
        "qc, c =feature_map(X_train[5])\n",
        "qc.barrier()\n",
        "qc = variational_circuit(qc, np.random.rand(N))\n",
        "qc.barrier()\n",
        "# measurement operator\n",
        "qc.measure(0,c)\n",
        "print(qc)"
      ]
    },
    {
      "attachments": {},
      "cell_type": "markdown",
      "metadata": {
        "id": "cuUvU04jISS2"
      },
      "source": [
        "Output"
      ]
    },
    {
      "cell_type": "code",
      "execution_count": 25,
      "metadata": {
        "colab": {
          "base_uri": "https://localhost:8080/"
        },
        "id": "Km73OWapH-rl",
        "outputId": "dfabb30b-8355-420c-8e7e-d5a24dd0d505"
      },
      "outputs": [
        {
          "name": "stdout",
          "output_type": "stream",
          "text": [
            "{'0': 3748, '1': 6252}\n",
            "0.6252\n",
            "        ┌───────┐  ░                          ┌───┐┌─────────────┐ ░ ┌─┐\n",
            "q10_0: ─┤ Rx(5) ├──░───■──────────────────────┤ X ├┤ Ry(0.79296) ├─░─┤M├\n",
            "       ┌┴───────┴┐ ░ ┌─┴─┐     ┌─────────────┐└─┬─┘└─────────────┘ ░ └╥┘\n",
            "q10_1: ┤ Rx(3.2) ├─░─┤ X ├──■──┤ Ry(0.51303) ├──┼──────────────────░──╫─\n",
            "       ├─────────┤ ░ └───┘┌─┴─┐└─────────────┘  │  ┌─────────────┐ ░  ║ \n",
            "q10_2: ┤ Rx(1.2) ├─░──────┤ X ├───────■─────────┼──┤ Ry(0.26614) ├─░──╫─\n",
            "       ├─────────┤ ░      └───┘     ┌─┴─┐       │  ├─────────────┤ ░  ║ \n",
            "q10_3: ┤ Rx(0.2) ├─░────────────────┤ X ├───────■──┤ Ry(0.92744) ├─░──╫─\n",
            "       └─────────┘ ░                └───┘          └─────────────┘ ░  ║ \n",
            "  c10: ═══════════════════════════════════════════════════════════════╩═\n",
            "                                                                        \n"
          ]
        }
      ],
      "source": [
        "import qiskit \n",
        "qc, c = feature_map(X_train[5])\n",
        "qc.barrier()\n",
        "qc = variational_circuit(qc, np.random.rand(n))\n",
        "qc.barrier()\n",
        "# measurement operator\n",
        "qc.measure(0,c)\n",
        "shots = 10000\n",
        "backend = Aer.get_backend(\"qasm_simulator\")\n",
        "job = qiskit.execute(qc, backend, shots=shots)\n",
        "result = job.result()\n",
        "counts = result.get_counts(qc)\n",
        "print(counts)\n",
        "print(counts[\"1\"]/shots)\n",
        "print(qc)"
      ]
    },
    {
      "attachments": {},
      "cell_type": "markdown",
      "metadata": {
        "id": "305Z-d0cIdAG"
      },
      "source": [
        "* Run quantum circuits 10000 times, ı have run it on quantum simulator \"qasm_simulator\" which simulates the quantum computer without any errors\n",
        "* The prediction of this quantum circuit is 1\n",
        "* But real => 0"
      ]
    },
    {
      "cell_type": "code",
      "execution_count": 27,
      "metadata": {
        "colab": {
          "base_uri": "https://localhost:8080/"
        },
        "id": "pOoMTb9MIZpf",
        "outputId": "e59357bb-85c2-4561-acfd-507fad4aebdc"
      },
      "outputs": [
        {
          "name": "stdout",
          "output_type": "stream",
          "text": [
            "0\n"
          ]
        }
      ],
      "source": [
        "print(y_train[5])"
      ]
    },
    {
      "attachments": {},
      "cell_type": "markdown",
      "metadata": {
        "id": "7ZIdKb__Ilw2"
      },
      "source": [
        "This make total sense because we have not train angles (thetas) yet. they are just random values."
      ]
    },
    {
      "attachments": {},
      "cell_type": "markdown",
      "metadata": {
        "id": "JNkG0WG4Ioeu"
      },
      "source": [
        "Quantum Neural Network Function"
      ]
    },
    {
      "cell_type": "code",
      "execution_count": 28,
      "metadata": {
        "id": "1mWHzE2JIiqm"
      },
      "outputs": [],
      "source": [
        "def quantum_nn(X, theta, simulator=True):\n",
        "\n",
        "    qc, c = feature_map(X)\n",
        "    qc = variational_circuit(qc, theta)\n",
        "    qc.measure(0,c)\n",
        "\n",
        "    shots = 154\n",
        "    backend = Aer.get_backend(\"qasm_simulator\")\n",
        "    job = qiskit.execute(qc, backend, shots=shots)\n",
        "    result = job.result()\n",
        "    counts = result.get_counts(qc)\n",
        "    return counts[\"1\"]/shots"
      ]
    },
    {
      "attachments": {},
      "cell_type": "markdown",
      "metadata": {
        "id": "YVz4aRIAIsWN"
      },
      "source": [
        "* Quantum Neural Network Function returns us a prediction in our case => 1\n",
        "* right class => 0"
      ]
    },
    {
      "cell_type": "code",
      "execution_count": 29,
      "metadata": {
        "colab": {
          "base_uri": "https://localhost:8080/"
        },
        "id": "4aDGGzm2IqfG",
        "outputId": "5efcb6a8-f129-44fe-8b5f-55e75e3856a4"
      },
      "outputs": [
        {
          "data": {
            "text/plain": [
              "0.66"
            ]
          },
          "execution_count": 29,
          "metadata": {},
          "output_type": "execute_result"
        }
      ],
      "source": [
        "prediction = quantum_nn(X_train[5], np.random.rand(N))\n",
        "prediction"
      ]
    },
    {
      "cell_type": "code",
      "execution_count": 31,
      "metadata": {
        "colab": {
          "base_uri": "https://localhost:8080/"
        },
        "id": "8FcpKOEyIvtl",
        "outputId": "789e7410-9a72-4122-ba9b-c40be7272428"
      },
      "outputs": [
        {
          "data": {
            "text/plain": [
              "0"
            ]
          },
          "execution_count": 31,
          "metadata": {},
          "output_type": "execute_result"
        }
      ],
      "source": [
        "target = y_train[5]\n",
        "target"
      ]
    },
    {
      "attachments": {},
      "cell_type": "markdown",
      "metadata": {
        "id": "DYVm-R-PI0bV"
      },
      "source": [
        "* How good are prediction is =>\n",
        "* We want to minimize this loss function"
      ]
    },
    {
      "cell_type": "code",
      "execution_count": 32,
      "metadata": {
        "colab": {
          "base_uri": "https://localhost:8080/"
        },
        "id": "jNtb4DUeIxIV",
        "outputId": "1c181d73-71c0-46eb-d9e0-83a8c08bd942"
      },
      "outputs": [
        {
          "data": {
            "text/plain": [
              "0.43560000000000004"
            ]
          },
          "execution_count": 32,
          "metadata": {},
          "output_type": "execute_result"
        }
      ],
      "source": [
        "(target - prediction)**2"
      ]
    },
    {
      "cell_type": "code",
      "execution_count": 34,
      "metadata": {
        "colab": {
          "base_uri": "https://localhost:8080/"
        },
        "id": "CJECotqxI3Hl",
        "outputId": "527ff1d8-3f06-4233-e4b4-2e595828edec"
      },
      "outputs": [
        {
          "data": {
            "text/plain": [
              "0.43560000000000004"
            ]
          },
          "execution_count": 34,
          "metadata": {},
          "output_type": "execute_result"
        }
      ],
      "source": [
        "def loss(prediction, target):\n",
        "      return (target - prediction)**2\n",
        "\n",
        "loss(prediction, target)"
      ]
    },
    {
      "attachments": {},
      "cell_type": "markdown",
      "metadata": {
        "id": "5VLx1qHHI9RN"
      },
      "source": [
        "**Stochastic gradient descent rule -**\n",
        "* We want to minimize this loss function to do that;\n",
        "* We need to loop over our training data then,\n",
        "* We need to update our variational parameters\n",
        "* We're gonna loop through our training data and\n",
        "* For every training data example, we're gonna get the prediction of our quantum neural network\n",
        "* We will then plug this into our loss function which tells us how far our prediction is away from the true value\n",
        "* And then , we're gonna be using this information to update the theta (our variational parameters in the variational circuits)\n",
        "* The gradient is essentially just taking the derivative of the loss function with respect to every entry in this theta vector here.\n",
        "* Eta is called learning rate\n",
        "* Eta is called hyper parameter"
      ]
    },
    {
      "cell_type": "code",
      "execution_count": 35,
      "metadata": {
        "id": "779xTyItI4id"
      },
      "outputs": [],
      "source": [
        "import copy\n",
        "\n",
        "def gradient(X, Y, theta):\n",
        "      delta = 0.01\n",
        "      grad = []\n",
        "      for i in range(len(theta)):\n",
        "          dtheta = copy.copy(theta)\n",
        "          dtheta[i] += delta\n",
        "          pred1 = quantum_nn(X, dtheta)\n",
        "          pred2 = quantum_nn(X, theta)\n",
        "          # finite difference\n",
        "          grad.append( (loss(pred1, Y)-loss(pred2, Y))/ delta)\n",
        "      return np.array(grad)"
      ]
    },
    {
      "attachments": {},
      "cell_type": "markdown",
      "metadata": {
        "id": "xjAxd9cJJNS2"
      },
      "source": [
        "* The way ı am calculating a derivative is using finite difference\n",
        "* Finite difference: you just evaluate loss function for dtheta, then you substruct the loss function evaluated at theta and divide by small value (delta)\n",
        "* We are doing for every theta value and return gradient vector"
      ]
    },
    {
      "cell_type": "code",
      "execution_count": 37,
      "metadata": {
        "id": "wdrY_q0_JL4_"
      },
      "outputs": [],
      "source": [
        "def accuracy(X, Y, theta):\n",
        "      counter = 0\n",
        "      for X_i, Y_i in zip(X, Y):\n",
        "          prediction = quantum_nn(X_i, theta)\n",
        "          if prediction < 0.5 and Y_i == 0:\n",
        "               counter +=1\n",
        "          elif prediction >= 0.5 and Y_i == 1:\n",
        "               counter +=1\n",
        "      return counter/len(Y)"
      ]
    },
    {
      "attachments": {},
      "cell_type": "markdown",
      "metadata": {
        "id": "6APSXumJJXnm"
      },
      "source": [
        "Training Accuracy"
      ]
    },
    {
      "cell_type": "code",
      "execution_count": 39,
      "metadata": {
        "colab": {
          "base_uri": "https://localhost:8080/"
        },
        "id": "uYPhul7RJTR2",
        "outputId": "5521defa-cb4c-49ab-d5af-50657d1eb509"
      },
      "outputs": [
        {
          "name": "stdout",
          "output_type": "stream",
          "text": [
            "Epoch \t Loss \t Tranining Accuracy\n",
            "0 \t 0.274 \t 0.239\n",
            "1 \t 0.260 \t 0.746\n",
            "2 \t 0.236 \t 0.836\n",
            "3 \t 0.226 \t 0.851\n",
            "4 \t 0.220 \t 0.776\n",
            "5 \t 0.233 \t 0.836\n",
            "6 \t 0.222 \t 0.806\n",
            "7 \t 0.218 \t 0.836\n",
            "8 \t 0.220 \t 0.836\n",
            "9 \t 0.214 \t 0.851\n",
            "10 \t 0.205 \t 0.851\n",
            "11 \t 0.204 \t 0.836\n",
            "12 \t 0.208 \t 0.866\n",
            "13 \t 0.211 \t 0.821\n",
            "14 \t 0.205 \t 0.851\n",
            "15 \t 0.207 \t 0.821\n",
            "16 \t 0.208 \t 0.866\n",
            "17 \t 0.211 \t 0.821\n",
            "18 \t 0.215 \t 0.806\n",
            "19 \t 0.214 \t 0.836\n"
          ]
        }
      ],
      "source": [
        "eta = 0.05 \n",
        "\n",
        "loss_list = []\n",
        "theta = np.ones(N)\n",
        "\n",
        "print(\"Epoch \\t Loss \\t Tranining Accuracy\")\n",
        "\n",
        "# training epoch \n",
        "for i in range(20):\n",
        "\n",
        "    loss_tmp = []\n",
        "\n",
        "    for X_i, Y_i in zip(X_train, y_train):\n",
        "\n",
        "        prediction = quantum_nn(X_i, theta)\n",
        "        loss_tmp.append(loss(prediction, Y_i))\n",
        "\n",
        "        # update theta,gradient descent rule\n",
        "        theta = theta - eta * gradient(X_i, Y_i, theta)\n",
        "    \n",
        "    loss_list.append(np.mean(loss_tmp))\n",
        "    acc = accuracy(X_train, y_train, theta)\n",
        "    print(f\"{i} \\t {loss_list[-1]:.3f} \\t {acc:.3f}\")"
      ]
    },
    {
      "cell_type": "code",
      "execution_count": 40,
      "metadata": {
        "colab": {
          "base_uri": "https://localhost:8080/",
          "height": 279
        },
        "id": "GJp-AgYsJapl",
        "outputId": "7f06c8e3-844d-4676-8752-3b28e8b7d82c"
      },
      "outputs": [
        {
          "data": {
            "image/png": "[encoded data removed]",
            "text/plain": [
              "<Figure size 432x288 with 1 Axes>"
            ]
          },
          "metadata": {
            "needs_background": "light"
          },
          "output_type": "display_data"
        }
      ],
      "source": [
        "import matplotlib.pyplot as plt\n",
        "plt.plot(loss_list)\n",
        "plt.xlabel(\"Epoch\")\n",
        "plt.ylabel(\"Loss\")\n",
        "plt.show()"
      ]
    },
    {
      "attachments": {},
      "cell_type": "markdown",
      "metadata": {
        "id": "vxqGpICQJiK3"
      },
      "source": [
        "Accuracy on test set"
      ]
    },
    {
      "cell_type": "code",
      "execution_count": 41,
      "metadata": {
        "colab": {
          "base_uri": "https://localhost:8080/"
        },
        "id": "8GOpbcQlJkIV",
        "outputId": "17323f00-85df-4a4a-b8aa-e44c7ce9b67d"
      },
      "outputs": [
        {
          "data": {
            "text/plain": [
              "0.7575757575757576"
            ]
          },
          "execution_count": 41,
          "metadata": {},
          "output_type": "execute_result"
        }
      ],
      "source": [
        "accuracy(X_test, y_test, theta)"
      ]
    },
    {
      "attachments": {},
      "cell_type": "markdown",
      "metadata": {
        "id": "oQiTcKjkJn5N"
      },
      "source": [
        "Improve accuracy- \n",
        "* By training in a bit longer\n",
        "* Implementing better loss function, variational circuits\n",
        "* Normalization on the input data"
      ]
    },
    {
      "cell_type": "code",
      "execution_count": null,
      "metadata": {
        "id": "f49sPYlCL68d"
      },
      "outputs": [],
      "source": []
    }
  ],
  "metadata": {
    "colab": {
      "provenance": []
    },
    "kernelspec": {
      "display_name": "Python 3",
      "name": "python3"
    },
    "language_info": {
      "name": "python"
    }
  },
  "nbformat": 4,
  "nbformat_minor": 0
}
